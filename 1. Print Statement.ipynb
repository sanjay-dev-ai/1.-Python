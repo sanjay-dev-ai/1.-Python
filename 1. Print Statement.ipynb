{
 "cells": [
  {
   "cell_type": "code",
   "execution_count": 1,
   "id": "e6943150-5b12-42a6-ac2f-989ec90a1dfa",
   "metadata": {},
   "outputs": [
    {
     "name": "stdout",
     "output_type": "stream",
     "text": [
      "Learning AI in Hope AI\n"
     ]
    }
   ],
   "source": [
    "print(\"Learning AI in Hope AI\") "
   ]
  },
  {
   "cell_type": "code",
   "execution_count": null,
   "id": "7b7efa50-db88-426c-9c04-ea204469ea89",
   "metadata": {},
   "outputs": [],
   "source": []
  }
 ],
 "metadata": {
  "kernelspec": {
   "display_name": "Python 3 (ipykernel)",
   "language": "python",
   "name": "python3"
  },
  "language_info": {
   "codemirror_mode": {
    "name": "ipython",
    "version": 3
   },
   "file_extension": ".py",
   "mimetype": "text/x-python",
   "name": "python",
   "nbconvert_exporter": "python",
   "pygments_lexer": "ipython3",
   "version": "3.13.5"
  }
 },
 "nbformat": 4,
 "nbformat_minor": 5
}
