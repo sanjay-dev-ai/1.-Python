{
 "cells": [
  {
   "cell_type": "code",
   "execution_count": 1,
   "id": "2565cb9f-31fe-4914-b048-153ed7bed424",
   "metadata": {},
   "outputs": [],
   "source": [
    "from Class_Assignments_2 import assignment2"
   ]
  },
  {
   "cell_type": "code",
   "execution_count": 2,
   "id": "dbab32b1-7e14-4510-9a90-fc0277565593",
   "metadata": {},
   "outputs": [
    {
     "name": "stdout",
     "output_type": "stream",
     "text": [
      "Sub-fields in AI are:\n",
      "Machine Learning\n",
      "Neural Networks\n",
      "Vision\n",
      "Robotics\n",
      "Speech Processing\n",
      "Natural Language Processing\n"
     ]
    }
   ],
   "source": [
    "AIFields = assignment2.Subfields()"
   ]
  },
  {
   "cell_type": "code",
   "execution_count": 3,
   "id": "ed84a75e-3d7b-4300-af8f-99a8772bfc71",
   "metadata": {},
   "outputs": [
    {
     "name": "stdin",
     "output_type": "stream",
     "text": [
      "Enter a number: 6\n"
     ]
    },
    {
     "name": "stdout",
     "output_type": "stream",
     "text": [
      "6  is Even Number\n"
     ]
    }
   ],
   "source": [
    "Calculation = assignment2.oddeven()"
   ]
  },
  {
   "cell_type": "code",
   "execution_count": 4,
   "id": "a306aedb-63a9-49fa-8fb4-fac2665c810b",
   "metadata": {},
   "outputs": [
    {
     "name": "stdin",
     "output_type": "stream",
     "text": [
      "Your Gender: Male\n",
      "Your Age: 16\n"
     ]
    },
    {
     "name": "stdout",
     "output_type": "stream",
     "text": [
      "Not Eligible\n"
     ]
    }
   ],
   "source": [
    "eligiblity = assignment2.Elegible()"
   ]
  },
  {
   "cell_type": "code",
   "execution_count": 6,
   "id": "ec2e30f8-50d7-49d6-b918-94a26373486c",
   "metadata": {},
   "outputs": [
    {
     "name": "stdin",
     "output_type": "stream",
     "text": [
      "Subject1= 98\n",
      "Subject2= 67\n",
      "Subject3= 87\n",
      "Subject4= 89\n",
      "Subject5= 87\n"
     ]
    },
    {
     "name": "stdout",
     "output_type": "stream",
     "text": [
      "Total: 428\n",
      "Percentage: 85.6\n"
     ]
    }
   ],
   "source": [
    "examresult = assignment2.percentage()"
   ]
  },
  {
   "cell_type": "code",
   "execution_count": 7,
   "id": "57d5d015-df88-45e7-ae39-2e56ef086cf4",
   "metadata": {},
   "outputs": [
    {
     "name": "stdin",
     "output_type": "stream",
     "text": [
      "Height: 5\n",
      "Breadth: 4\n"
     ]
    },
    {
     "name": "stdout",
     "output_type": "stream",
     "text": [
      "Area formula:  (Height*Breadth)/2\n",
      "Area of Triangle: 10.0\n"
     ]
    },
    {
     "name": "stdin",
     "output_type": "stream",
     "text": [
      "Height1: 7\n",
      "Height2: 4\n",
      "Btradth: 78\n"
     ]
    },
    {
     "name": "stdout",
     "output_type": "stream",
     "text": [
      "Perimeter formula: Height1+Height2+Breadth\n",
      "Perimeter of Triangle: 89\n"
     ]
    }
   ],
   "source": [
    "resultoftriangle = assignment2.triangle()"
   ]
  },
  {
   "cell_type": "code",
   "execution_count": null,
   "id": "87ef2f41-9c78-461c-ba2c-e207e47ec04c",
   "metadata": {},
   "outputs": [],
   "source": []
  }
 ],
 "metadata": {
  "kernelspec": {
   "display_name": "Python 3 (ipykernel)",
   "language": "python",
   "name": "python3"
  },
  "language_info": {
   "codemirror_mode": {
    "name": "ipython",
    "version": 3
   },
   "file_extension": ".py",
   "mimetype": "text/x-python",
   "name": "python",
   "nbconvert_exporter": "python",
   "pygments_lexer": "ipython3",
   "version": "3.13.5"
  }
 },
 "nbformat": 4,
 "nbformat_minor": 5
}
