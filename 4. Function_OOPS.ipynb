{
 "cells": [
  {
   "cell_type": "markdown",
   "id": "99f6268c-04e6-4726-b041-e346f01f8596",
   "metadata": {},
   "source": [
    "#Function     --> Event (Object)\n",
    "\n",
    "#syntax\n",
    "def (Function name)():    \n",
    "\n",
    "(Logic)\n",
    "\n",
    "return (variable)\n",
    "\n",
    "Example:\n",
    "def addition(a,b):\n",
    "    addition=a+b\n",
    "    return addition"
   ]
  },
  {
   "cell_type": "code",
   "execution_count": 1,
   "id": "c9e5b2b8-3d81-43b4-a4d5-0b25582628fd",
   "metadata": {},
   "outputs": [],
   "source": [
    "#Requiremnt --> There wil list of age that need to be categorized using fucntion."
   ]
  },
  {
   "cell_type": "code",
   "execution_count": 2,
   "id": "02356760-b669-4015-ac78-74175e9dc7d8",
   "metadata": {},
   "outputs": [],
   "source": [
    "lists=[44,38,27,16,35,10]\n",
    "\n",
    "def agecategory():\n",
    "    for age in lists:\n",
    "        if(age<15):\n",
    "         print(\"Children\")\n",
    "        elif(age<18):\n",
    "            print(\"Teengae\")\n",
    "        elif(age<35):\n",
    "            print(\"Adult\")\n",
    "        elif(age<59):\n",
    "            print(\"Citizen\")\n",
    "        else:\n",
    "            print(\"Senior Citizen\")"
   ]
  },
  {
   "cell_type": "code",
   "execution_count": 3,
   "id": "68dc1242-facb-4075-b2d8-a1b87c98d54a",
   "metadata": {},
   "outputs": [
    {
     "name": "stdout",
     "output_type": "stream",
     "text": [
      "Citizen\n",
      "Citizen\n",
      "Adult\n",
      "Teengae\n",
      "Citizen\n",
      "Children\n"
     ]
    }
   ],
   "source": [
    "#To get the output need to call the funtion using the funtion name.\n",
    "\n",
    "agecategory()\n"
   ]
  },
  {
   "cell_type": "code",
   "execution_count": 17,
   "id": "13ce19cb-f0a2-4a34-a564-e05760466a95",
   "metadata": {},
   "outputs": [
    {
     "name": "stdin",
     "output_type": "stream",
     "text": [
      "Enter the number: 33\n"
     ]
    }
   ],
   "source": [
    "#Fuction-2 (Using the return statemnet)\n",
    "\n",
    "age=int(input(\"Enter the number:\"))\n",
    "def agecategory():\n",
    "        if(age<15):\n",
    "         print(\"Children\")\n",
    "         cate=\"Children\"    #Reason for assigning the output to the variable is to store the value and we can use the same in return statemnet\n",
    "        elif(age<18):\n",
    "            print(\"Teengae\")\n",
    "            cate=\"Teenage\"\n",
    "        elif(age<35):\n",
    "            print(\"Adult\")\n",
    "            cate=\"Adult\"\n",
    "        elif(age<59):\n",
    "            print(\"Citizen\")\n",
    "            cate=\"Citizen\"\n",
    "        else:\n",
    "            print(\"Senior Citizen\")\n",
    "            cate=\"Senior Citizen\"\n",
    "        return cate        #Returning the variable data to the funaction name that can be called at the time of execution."
   ]
  },
  {
   "cell_type": "code",
   "execution_count": 18,
   "id": "b88ef425-aa27-4052-bf2b-8ce531793e53",
   "metadata": {},
   "outputs": [
    {
     "name": "stdout",
     "output_type": "stream",
     "text": [
      "Adult\n"
     ]
    },
    {
     "data": {
      "text/plain": [
       "'Adult'"
      ]
     },
     "execution_count": 18,
     "metadata": {},
     "output_type": "execute_result"
    }
   ],
   "source": [
    "agecategory()          #Got the output from the print statemnat and from the return statement to over come the same need use the variable."
   ]
  },
  {
   "cell_type": "code",
   "execution_count": 19,
   "id": "f28055eb-e430-48f7-9323-01b8b5af6f1e",
   "metadata": {},
   "outputs": [
    {
     "name": "stdout",
     "output_type": "stream",
     "text": [
      "Adult\n"
     ]
    }
   ],
   "source": [
    "#Assigning the return output to the variable using the function name\n",
    "agecate=agecategory()"
   ]
  },
  {
   "cell_type": "code",
   "execution_count": null,
   "id": "8ff8b90d-ee2d-4c00-a470-ac4dd0e0878b",
   "metadata": {},
   "outputs": [],
   "source": []
  }
 ],
 "metadata": {
  "kernelspec": {
   "display_name": "Python 3 (ipykernel)",
   "language": "python",
   "name": "python3"
  },
  "language_info": {
   "codemirror_mode": {
    "name": "ipython",
    "version": 3
   },
   "file_extension": ".py",
   "mimetype": "text/x-python",
   "name": "python",
   "nbconvert_exporter": "python",
   "pygments_lexer": "ipython3",
   "version": "3.13.5"
  }
 },
 "nbformat": 4,
 "nbformat_minor": 5
}
