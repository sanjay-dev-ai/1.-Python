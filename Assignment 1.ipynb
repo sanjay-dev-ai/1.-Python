{
 "cells": [
  {
   "cell_type": "code",
   "execution_count": 1,
   "id": "6806520f-3c59-4090-baa3-caf99089f729",
   "metadata": {},
   "outputs": [
    {
     "name": "stdout",
     "output_type": "stream",
     "text": [
      "Welcome to Assignment-1\n"
     ]
    }
   ],
   "source": [
    "print(\"Welcome to Assignment-1\")"
   ]
  },
  {
   "cell_type": "code",
   "execution_count": 2,
   "id": "0f1fc6b7-9ef9-4e15-9e49-5e01161097bc",
   "metadata": {},
   "outputs": [
    {
     "name": "stdout",
     "output_type": "stream",
     "text": [
      "Num1= 10\n",
      "Num2= 30\n",
      "Add= 40\n"
     ]
    }
   ],
   "source": [
    "Num1=10\n",
    "Num2=30\n",
    "print(\"Num1=\",Num1)\n",
    "print(\"Num2=\",Num2)\n",
    "print(\"Add=\",Num1 + Num2)"
   ]
  },
  {
   "cell_type": "markdown",
   "id": "bc124df2-c7fc-4e9a-acf4-5382fc4e066a",
   "metadata": {},
   "source": [
    "#Body Mass Index"
   ]
  },
  {
   "cell_type": "code",
   "execution_count": 4,
   "id": "2676821b-99d9-49e6-b9c8-235ddceb5f31",
   "metadata": {},
   "outputs": [
    {
     "name": "stdin",
     "output_type": "stream",
     "text": [
      "Enter the BMI Index: 34\n"
     ]
    },
    {
     "name": "stdout",
     "output_type": "stream",
     "text": [
      "Very Over Weight\n"
     ]
    }
   ],
   "source": [
    "value=int(input(\"Enter the BMI Index:\"))\n",
    "if(value<18):\n",
    "    print(\"Under Weight\")\n",
    "elif(value<=24):\n",
    "    print(\"Normal Weight\")\n",
    "elif(value<=30):\n",
    "    print(\"Over Weight\")\n",
    "else:\n",
    "    print(\"Very Over Weight\")"
   ]
  },
  {
   "cell_type": "code",
   "execution_count": null,
   "id": "b45dabbc-1082-4924-95cb-e602faa4002d",
   "metadata": {},
   "outputs": [],
   "source": []
  }
 ],
 "metadata": {
  "kernelspec": {
   "display_name": "Python 3 (ipykernel)",
   "language": "python",
   "name": "python3"
  },
  "language_info": {
   "codemirror_mode": {
    "name": "ipython",
    "version": 3
   },
   "file_extension": ".py",
   "mimetype": "text/x-python",
   "name": "python",
   "nbconvert_exporter": "python",
   "pygments_lexer": "ipython3",
   "version": "3.13.5"
  }
 },
 "nbformat": 4,
 "nbformat_minor": 5
}
