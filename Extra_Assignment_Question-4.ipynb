{
 "cells": [
  {
   "cell_type": "code",
   "execution_count": 29,
   "id": "104ead27-d64e-4046-881f-3131949d09e3",
   "metadata": {},
   "outputs": [
    {
     "name": "stdout",
     "output_type": "stream",
     "text": [
      "Sub-fields in AI are:\n",
      "Machine Learning\n",
      "Neural Networks\n",
      "Vision\n",
      "Robotics\n",
      "Speech Processing\n",
      "Natural Language Processing\n"
     ]
    }
   ],
   "source": [
    "# Create a function and list out the items in the list\n",
    "\n",
    "\n",
    "domain=[\"Machine Learning\",\"Neural Networks\",\"Vision\",\"Robotics\",\"Speech Processing\",\"Natural Language Processing\"]\n",
    "def Subfields():\n",
    "    print(\"Sub-fields in AI are:\")\n",
    "    for result in domain:\n",
    "        print(result)\n",
    "    return result\n",
    "SubfieldsofAI = Subfields()"
   ]
  },
  {
   "cell_type": "code",
   "execution_count": 35,
   "id": "5b7ec408-117a-47d4-9f19-b204d5d18e9b",
   "metadata": {},
   "outputs": [
    {
     "name": "stdin",
     "output_type": "stream",
     "text": [
      "Enter a number: 3\n"
     ]
    },
    {
     "name": "stdout",
     "output_type": "stream",
     "text": [
      "3 is Odd Number\n"
     ]
    }
   ],
   "source": [
    "# Create a function that checks whether the given number is Odd or Even\n",
    "\n",
    "def oddeven():\n",
    "    num=int(input(\"Enter a number:\"))\n",
    "    if(num%2==1):\n",
    "        print(num,\"is Odd Number\")\n",
    "        value=\"Odd Number\"\n",
    "    else:\n",
    "        print(num,\" is Even Number\")\n",
    "        value=\"Even Number\"\n",
    "    return value\n",
    "message=oddeven()"
   ]
  },
  {
   "cell_type": "code",
   "execution_count": 78,
   "id": "c9bdb676-c38d-47e5-8672-2cf4078d4db4",
   "metadata": {},
   "outputs": [
    {
     "name": "stdin",
     "output_type": "stream",
     "text": [
      "Your Gender: Male\n",
      "Your Age: 19\n"
     ]
    },
    {
     "name": "stdout",
     "output_type": "stream",
     "text": [
      "Not Eligible\n"
     ]
    }
   ],
   "source": [
    "# Create a function that tells elegibility of marriage for male and female according to their age limit like 21 for male and 18 for female\n",
    "\n",
    "def Elegible():\n",
    "    num=input(\"Your Gender:\")\n",
    "    age=int(input(\"Your Age:\"))\n",
    "    if(num==\"Male\"):\n",
    "            if(age<21):\n",
    "                print(\"Not Eligible\")\n",
    "                value=\"Not Eligible\"\n",
    "            else:\n",
    "                print(\"Eligible\")\n",
    "                value=\"Eligible\"\n",
    "            return value\n",
    "    elif(num==\"Female\"):\n",
    "            if(age<18):\n",
    "                print(\"Not Eligible\")\n",
    "                value=\"Not Eligible\"\n",
    "            else:\n",
    "                print(\"Eligible\")\n",
    "                value=\"Eligible\"\n",
    "            return value\n",
    "AgeCriteria = Elegible()\n"
   ]
  },
  {
   "cell_type": "code",
   "execution_count": 97,
   "id": "99518891-2a80-45a4-9aa2-83832d7a7c32",
   "metadata": {},
   "outputs": [
    {
     "name": "stdin",
     "output_type": "stream",
     "text": [
      "Subject1= 98\n",
      "Subject2= 87\n",
      "Subject3= 95\n",
      "Subject4= 95\n",
      "Subject5= 93\n"
     ]
    },
    {
     "name": "stdout",
     "output_type": "stream",
     "text": [
      "Total: 468\n",
      "Percentage: 93.60000000000001\n"
     ]
    }
   ],
   "source": [
    "#calculate the percentage of your 10th mark\n",
    "\n",
    "def percentage():\n",
    "    num1=int(input(\"Subject1=\"))\n",
    "    num2=int(input(\"Subject2=\"))\n",
    "    num3=int(input(\"Subject3=\"))\n",
    "    num4=int(input(\"Subject4=\"))\n",
    "    num5=int(input(\"Subject5=\"))\n",
    "    add=num1+num2+num3+num4+num5\n",
    "    print(\"Total:\",add)\n",
    "    perc=(add/500*100)\n",
    "    print(\"Percentage:\",perc)\n",
    "    value=perc\n",
    "\n",
    "    return value\n",
    "    \n",
    "marks= percentage()"
   ]
  },
  {
   "cell_type": "code",
   "execution_count": 123,
   "id": "63264258-c0c7-49e3-879a-0404724b3734",
   "metadata": {},
   "outputs": [
    {
     "name": "stdin",
     "output_type": "stream",
     "text": [
      "Height: 32\n",
      "Breadth: 34\n"
     ]
    },
    {
     "name": "stdout",
     "output_type": "stream",
     "text": [
      "Area formula:  (Height*Breadth)/2\n",
      "Area of Triangle: 544.0\n"
     ]
    },
    {
     "name": "stdin",
     "output_type": "stream",
     "text": [
      "Height1: 2\n",
      "Height2: 4\n",
      "Btradth: 4\n"
     ]
    },
    {
     "name": "stdout",
     "output_type": "stream",
     "text": [
      "Perimeter formula: Height1+Height2+Breadth\n",
      "Perimeter of Triangle: 10\n"
     ]
    }
   ],
   "source": [
    "#print area and perimeter of triangle using functions\n",
    "\n",
    "#Area\n",
    "def triangle():\n",
    "        num1=int(input(\"Height:\"))\n",
    "        num2=int(input(\"Breadth:\"))\n",
    "        print(\"Area formula:  (Height*Breadth)/2\")\n",
    "        value1=((num1*num2)/2)\n",
    "        print(\"Area of Triangle:\", value1)\n",
    "        area=value1\n",
    "#Perimeter\n",
    "        num3=int(input(\"Height1:\"))\n",
    "        num4=int(input(\"Height2:\"))\n",
    "        num5=int(input(\"Btradth:\"))\n",
    "        print(\"Perimeter formula: Height1+Height2+Breadth\")\n",
    "        value2=(num3+num4+num5)\n",
    "        print(\"Perimeter of Triangle:\",value2)\n",
    "        perimeter=value2\n",
    "        return area, perimeter\n",
    "    \n",
    "Area_Perimeter=triangle()"
   ]
  },
  {
   "cell_type": "code",
   "execution_count": 124,
   "id": "e27a2797-5995-4295-8a04-018bedc7a98e",
   "metadata": {},
   "outputs": [
    {
     "name": "stdout",
     "output_type": "stream",
     "text": [
      "(544.0, 10)\n"
     ]
    }
   ],
   "source": [
    "print(Area_Perimeter)"
   ]
  }
 ],
 "metadata": {
  "kernelspec": {
   "display_name": "Python 3 (ipykernel)",
   "language": "python",
   "name": "python3"
  },
  "language_info": {
   "codemirror_mode": {
    "name": "ipython",
    "version": 3
   },
   "file_extension": ".py",
   "mimetype": "text/x-python",
   "name": "python",
   "nbconvert_exporter": "python",
   "pygments_lexer": "ipython3",
   "version": "3.13.5"
  }
 },
 "nbformat": 4,
 "nbformat_minor": 5
}
