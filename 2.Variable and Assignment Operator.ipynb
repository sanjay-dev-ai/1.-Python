{
 "cells": [
  {
   "cell_type": "code",
   "execution_count": 11,
   "id": "a43cfa2d-d3c5-4b30-a2a3-53c5e0d4bf57",
   "metadata": {},
   "outputs": [
    {
     "name": "stdout",
     "output_type": "stream",
     "text": [
      "Answer is 30\n"
     ]
    }
   ],
   "source": [
    "num1=10\n",
    "num2=20\n",
    "add=num1+num2\n",
    "print(\"Answer is\",add)"
   ]
  },
  {
   "cell_type": "code",
   "execution_count": 12,
   "id": "2db9227a-6315-4a9f-a650-aad349eb00ed",
   "metadata": {},
   "outputs": [
    {
     "name": "stdout",
     "output_type": "stream",
     "text": [
      "The addition of two numbers\n",
      "The Number 1:  10\n",
      "The Number 2:  20\n",
      "The Answer  :  30\n"
     ]
    }
   ],
   "source": [
    "num1=10\n",
    "num2=20\n",
    "print(\"The addition of two numbers\")\n",
    "print(\"The Number 1: \",num1)\n",
    "print(\"The Number 2: \",num2)\n",
    "print(\"The Answer  : \",num1+num2)"
   ]
  },
  {
   "cell_type": "code",
   "execution_count": 13,
   "id": "b4972bfc-e9cd-4526-b19e-8b0f1b598f7b",
   "metadata": {},
   "outputs": [
    {
     "name": "stdin",
     "output_type": "stream",
     "text": [
      "Enter the num1:  33\n"
     ]
    }
   ],
   "source": [
    "num1=input(\"Enter the num1: \")"
   ]
  },
  {
   "cell_type": "code",
   "execution_count": 14,
   "id": "1bcae823-8764-4ddf-a885-f7f2a393f167",
   "metadata": {},
   "outputs": [
    {
     "name": "stdin",
     "output_type": "stream",
     "text": [
      "Enter the num2:  44\n"
     ]
    }
   ],
   "source": [
    "num2=input(\"Enter the num2: \")"
   ]
  },
  {
   "cell_type": "code",
   "execution_count": 15,
   "id": "50914dac-72f5-4fe1-8431-8ae0d0fa6d13",
   "metadata": {},
   "outputs": [
    {
     "name": "stdout",
     "output_type": "stream",
     "text": [
      "The final answer is:  3344\n"
     ]
    }
   ],
   "source": [
    "print(\"The final answer is: \", num1+num2)"
   ]
  },
  {
   "cell_type": "code",
   "execution_count": 16,
   "id": "21583d7c-0072-47d4-86eb-53e81293cf91",
   "metadata": {},
   "outputs": [
    {
     "data": {
      "text/plain": [
       "'As per the above program, It shoud get as 74, but it got merged. This is due to the num1 and num2 stored value is considered as string. To fix the issue use integer(int) in the code. It will considered as numbers.'"
      ]
     },
     "execution_count": 16,
     "metadata": {},
     "output_type": "execute_result"
    }
   ],
   "source": [
    "\"As per the above program, It shoud get as 74, but it got merged. This is due to the num1 and num2 stored value is considered as string. To fix the issue use integer(int) in the code. It will considered as numbers.\""
   ]
  },
  {
   "cell_type": "code",
   "execution_count": 17,
   "id": "f527a840-141f-44b9-a80e-e17ddc6bd291",
   "metadata": {},
   "outputs": [
    {
     "name": "stdin",
     "output_type": "stream",
     "text": [
      "Enter the num1:  33\n",
      "Enter the num2:  44\n"
     ]
    },
    {
     "name": "stdout",
     "output_type": "stream",
     "text": [
      "The final answer is:  77\n"
     ]
    }
   ],
   "source": [
    "num1=int(input(\"Enter the num1: \"))\n",
    "num2=int(input(\"Enter the num2: \"))\n",
    "print(\"The final answer is: \", num1+num2)"
   ]
  },
  {
   "cell_type": "code",
   "execution_count": null,
   "id": "7697bd7a-5787-40ba-824a-bb954c90c1a2",
   "metadata": {},
   "outputs": [],
   "source": []
  }
 ],
 "metadata": {
  "kernelspec": {
   "display_name": "Python 3 (ipykernel)",
   "language": "python",
   "name": "python3"
  },
  "language_info": {
   "codemirror_mode": {
    "name": "ipython",
    "version": 3
   },
   "file_extension": ".py",
   "mimetype": "text/x-python",
   "name": "python",
   "nbconvert_exporter": "python",
   "pygments_lexer": "ipython3",
   "version": "3.13.5"
  }
 },
 "nbformat": 4,
 "nbformat_minor": 5
}
