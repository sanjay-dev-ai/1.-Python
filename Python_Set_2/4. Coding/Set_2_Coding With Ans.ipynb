{
 "cells": [
  {
   "cell_type": "code",
   "execution_count": null,
   "id": "c99b5be6-4a88-48f7-b700-ddba0222194a",
   "metadata": {},
   "outputs": [],
   "source": [
    "1.Write a Python program to find the reverse of a string. Expected Output (for input \"hello\"):\n",
    "olleh\n"
   ]
  },
  {
   "cell_type": "code",
   "execution_count": 1,
   "id": "f4d53a97-d854-49e9-b7d3-3819d3850907",
   "metadata": {},
   "outputs": [
    {
     "name": "stdin",
     "output_type": "stream",
     "text": [
      "Enter the String: hello\n"
     ]
    },
    {
     "name": "stdout",
     "output_type": "stream",
     "text": [
      "Reversed String: olleh\n"
     ]
    }
   ],
   "source": [
    "#1.Ans:\n",
    "\n",
    "word = input(\"Enter the String:\")\n",
    "def reversestring(word):\n",
    "    return word[::-1]\n",
    "print(\"Reversed String:\", reversestring(word))"
   ]
  },
  {
   "cell_type": "code",
   "execution_count": null,
   "id": "46b3746c-2627-4c58-b8c2-f3bab9df7a34",
   "metadata": {},
   "outputs": [],
   "source": [
    "2.Write a Python program to generate the Fibonacci sequence up to 10 terms.\n",
    "Expected Output:\n",
    "0 1 1 2 3 5 8 13 21 34"
   ]
  },
  {
   "cell_type": "code",
   "execution_count": 2,
   "id": "41af2ce2-4278-4c3e-89c3-0cf50cbc457f",
   "metadata": {},
   "outputs": [
    {
     "data": {
      "text/plain": [
       "[0, 1, 1, 2, 3, 5, 8, 13, 21, 34]"
      ]
     },
     "execution_count": 2,
     "metadata": {},
     "output_type": "execute_result"
    }
   ],
   "source": [
    "#2.Ans:\n",
    "\n",
    "def fibonacci(n):\n",
    "    sequence = [ 0,1 ]\n",
    "    for data in range (2, n):\n",
    "        sequence.append(sequence[-1] + sequence[-2])\n",
    "    return sequence\n",
    "fibonacci(10)"
   ]
  },
  {
   "cell_type": "code",
   "execution_count": null,
   "id": "1ff9fefd-dc3e-43bd-91b2-3e70ac529a5e",
   "metadata": {},
   "outputs": [],
   "source": [
    "3.Write a Python function to check if a given string is a palindrome.\n",
    "Expected Output (for input \"madam\"):\n",
    "madam is a palindrome"
   ]
  },
  {
   "cell_type": "code",
   "execution_count": 3,
   "id": "61bee6ae-11eb-41ca-8545-da5385cde719",
   "metadata": {},
   "outputs": [
    {
     "name": "stdin",
     "output_type": "stream",
     "text": [
      "Enter the String: madam\n"
     ]
    },
    {
     "name": "stdout",
     "output_type": "stream",
     "text": [
      "madam is a palindrome\n"
     ]
    }
   ],
   "source": [
    "#3.Ans:\n",
    "\n",
    "word = input(\"Enter the String:\")\n",
    "\n",
    "def check_palindrome(word):\n",
    "    return word [::-1]\n",
    "\n",
    "reversed_palindrome = check_palindrome(word)\n",
    "\n",
    "if (reversed_palindrome == word):\n",
    "    print(word, \"is a palindrome\")\n",
    "else:\n",
    "    print(word, \"is not a palindrome\")\n"
   ]
  },
  {
   "cell_type": "code",
   "execution_count": null,
   "id": "3c381aab-15c6-4648-ac8e-de7a158f085b",
   "metadata": {},
   "outputs": [],
   "source": [
    "4.Write a Python program to count the number of vowels in a given string. \n",
    "Expected Output (for input \"education\"):\n",
    "\n",
    "Number of vowels: 5"
   ]
  },
  {
   "cell_type": "code",
   "execution_count": 4,
   "id": "061a0558-492a-43e5-85c2-4fced325e545",
   "metadata": {},
   "outputs": [
    {
     "name": "stdin",
     "output_type": "stream",
     "text": [
      "Enter the String: education\n"
     ]
    },
    {
     "name": "stdout",
     "output_type": "stream",
     "text": [
      "Number of vowels: 5\n"
     ]
    }
   ],
   "source": [
    "#4.Ans:\n",
    "\n",
    "word = input (\"Enter the String:\")\n",
    "\n",
    "def count_vowel(word):\n",
    "    vowels = \"aeiouAEIOU\"\n",
    "    return sum(1 for char in word if char in vowels)\n",
    "\n",
    "print(\"Number of vowels:\", count_vowel(word))"
   ]
  },
  {
   "cell_type": "code",
   "execution_count": null,
   "id": "421b3003-64ad-45e8-8099-32ff932d77f8",
   "metadata": {},
   "outputs": [],
   "source": [
    "5.Write a Python program to remove duplicates from a list.\n",
    "Expected Output (for input [1, 2, 2, 3, 4, 4, 5]):\n",
    "\n",
    " [1, 2, 3, 4, 5]"
   ]
  },
  {
   "cell_type": "code",
   "execution_count": 5,
   "id": "47ddc5ec-aa72-4cd9-845f-73d03d7d1e8a",
   "metadata": {},
   "outputs": [
    {
     "name": "stdout",
     "output_type": "stream",
     "text": [
      "[1, 2, 3, 4, 5]\n"
     ]
    }
   ],
   "source": [
    "#5.Ans:\n",
    "\n",
    "lists = [1,2,2,3,4,4,5]\n",
    "\n",
    "def rm_duplicates():\n",
    "    unique_list = list(set(lists))\n",
    "    return unique_list\n",
    "\n",
    "print(rm_duplicates())"
   ]
  },
  {
   "cell_type": "code",
   "execution_count": 6,
   "id": "bdfcc0f8-c39a-4c52-84ae-062b9ce43783",
   "metadata": {},
   "outputs": [
    {
     "name": "stdout",
     "output_type": "stream",
     "text": [
      "[1, 2, 3, 4, 5]\n"
     ]
    }
   ],
   "source": [
    "def rm_duplicates(lists):\n",
    "    unique_list = list(set(lists))\n",
    "    return unique_list\n",
    "\n",
    "print(rm_duplicates([1,2,2,3,4,4,5]))"
   ]
  }
 ],
 "metadata": {
  "kernelspec": {
   "display_name": "Python 3 (ipykernel)",
   "language": "python",
   "name": "python3"
  },
  "language_info": {
   "codemirror_mode": {
    "name": "ipython",
    "version": 3
   },
   "file_extension": ".py",
   "mimetype": "text/x-python",
   "name": "python",
   "nbconvert_exporter": "python",
   "pygments_lexer": "ipython3",
   "version": "3.13.5"
  }
 },
 "nbformat": 4,
 "nbformat_minor": 5
}
