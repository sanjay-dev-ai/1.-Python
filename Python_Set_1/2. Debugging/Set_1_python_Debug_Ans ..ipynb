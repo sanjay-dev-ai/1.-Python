{
 "cells": [
  {
   "cell_type": "code",
   "execution_count": 5,
   "id": "8e02775a",
   "metadata": {},
   "outputs": [
    {
     "name": "stdout",
     "output_type": "stream",
     "text": [
      "0\n",
      "1\n",
      "2\n",
      "3\n",
      "4\n"
     ]
    }
   ],
   "source": [
    "#1.Find the error in the following Python code:\n",
    "\n",
    "for i in range(5):\n",
    "    print(i)\n",
    "\n",
    "# Changes - Fixed the indendation and added the Colon to the loop."
   ]
  },
  {
   "cell_type": "code",
   "execution_count": 37,
   "id": "df3cee51",
   "metadata": {},
   "outputs": [
    {
     "name": "stdout",
     "output_type": "stream",
     "text": [
      "15\n"
     ]
    }
   ],
   "source": [
    "#2.What will be the output of this code?\n",
    "\n",
    "a = 10\n",
    "b = 5\n",
    "print(a + b)\n",
    "\n",
    "#Changes - Fixed the \"B\" value from string to integer. "
   ]
  },
  {
   "cell_type": "code",
   "execution_count": 38,
   "id": "15c2e7b2",
   "metadata": {},
   "outputs": [
    {
     "data": {
      "text/plain": [
       "5"
      ]
     },
     "execution_count": 38,
     "metadata": {},
     "output_type": "execute_result"
    }
   ],
   "source": [
    "#3.What is the issue in this Python snippet?\n",
    "\n",
    "def add_numbers(a, b):\n",
    "    return a + b\n",
    "\n",
    "add_numbers(2,3)\n",
    "\n",
    "#Changes - Fixed the indentation and the colon"
   ]
  },
  {
   "cell_type": "code",
   "execution_count": 17,
   "id": "2f8e5efd",
   "metadata": {},
   "outputs": [
    {
     "name": "stdout",
     "output_type": "stream",
     "text": [
      "4\n"
     ]
    }
   ],
   "source": [
    "\n",
    "#4.Identify the bug in the following Python code:\n",
    "\n",
    "numbers = [1, 2, 3, 4]\n",
    "print(numbers[3])\n",
    "\n",
    "#Changes - In the index the value startes from 0. So, As per the given input the range is from 0 - 3. So, The index 4 will be out of range."
   ]
  },
  {
   "cell_type": "code",
   "execution_count": 20,
   "id": "bc0080c1",
   "metadata": {},
   "outputs": [
    {
     "name": "stdout",
     "output_type": "stream",
     "text": [
      "Hello, World!\n"
     ]
    }
   ],
   "source": [
    "#5.Find the error in the following Python code:\n",
    "\n",
    "print(\"Hello, World!\")\n",
    "\n",
    "#Changes - Added the parentheses"
   ]
  },
  {
   "cell_type": "code",
   "execution_count": 25,
   "id": "5b449ecb",
   "metadata": {},
   "outputs": [],
   "source": [
    "#6.Find the error in the following Python code:\n",
    "\n",
    "# x = 5 / 0\n",
    "x = 5 /1\n",
    "\n",
    "#changes - None of the number can't be divisible by zero. "
   ]
  },
  {
   "cell_type": "code",
   "execution_count": 28,
   "id": "79260565",
   "metadata": {},
   "outputs": [
    {
     "name": "stdout",
     "output_type": "stream",
     "text": [
      "Name: Alice, Age: 25\n"
     ]
    }
   ],
   "source": [
    "#7.Find the error in the following Python code:\n",
    "\n",
    "name = \"Alice\"\n",
    "age = 25\n",
    "print(\"Name: \" + name + \", Age: \" + str(age))\n",
    "\n",
    "#Changes - reason using string in the print statement is sring can't be directly concate with integer. "
   ]
  },
  {
   "cell_type": "code",
   "execution_count": 40,
   "id": "3e4b6f3b",
   "metadata": {},
   "outputs": [
    {
     "name": "stdout",
     "output_type": "stream",
     "text": [
      "10\n",
      "9\n",
      "8\n",
      "7\n",
      "6\n",
      "5\n",
      "4\n",
      "3\n",
      "2\n"
     ]
    }
   ],
   "source": [
    "#8.Find the error\n",
    "\n",
    "for i in range(10, 1, -1):\n",
    "    print(i)\n",
    "\n",
    "#Changes - range starts from 1 to 10 and step with negative will not works and it will throws empty. The start is less than step. "
   ]
  },
  {
   "cell_type": "code",
   "execution_count": 47,
   "id": "95976c4d",
   "metadata": {},
   "outputs": [],
   "source": [
    "#9. Find the error in the following Python code:\n",
    "\n",
    "x = 10\n",
    "if (x == 5):\n",
    "    print(\"x is 5\")\n",
    "\n",
    "#Changes - Already for \"x\" value is assigned. So, In the If statement need to use equality operator to check the condition true or false."
   ]
  },
  {
   "cell_type": "code",
   "execution_count": 55,
   "id": "317eca50",
   "metadata": {},
   "outputs": [
    {
     "name": "stdout",
     "output_type": "stream",
     "text": [
      "Hello, Sanjay\n"
     ]
    }
   ],
   "source": [
    "#10. Identify the error in the following function definition:\n",
    "\n",
    "def greet(name):\n",
    "    print(\"Hello, \" + name)\n",
    "\n",
    "greet(\"Sanjay\")\n",
    "\n",
    "#Changes - Colon missing. "
   ]
  },
  {
   "cell_type": "code",
   "execution_count": null,
   "id": "7592a194-320c-4985-a9aa-6f40e58f0f16",
   "metadata": {},
   "outputs": [],
   "source": []
  }
 ],
 "metadata": {
  "kernelspec": {
   "display_name": "Python 3 (ipykernel)",
   "language": "python",
   "name": "python3"
  },
  "language_info": {
   "codemirror_mode": {
    "name": "ipython",
    "version": 3
   },
   "file_extension": ".py",
   "mimetype": "text/x-python",
   "name": "python",
   "nbconvert_exporter": "python",
   "pygments_lexer": "ipython3",
   "version": "3.13.5"
  }
 },
 "nbformat": 4,
 "nbformat_minor": 5
}
