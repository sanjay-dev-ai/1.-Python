{
 "cells": [
  {
   "cell_type": "code",
   "execution_count": 2,
   "id": "f44253f0-47b2-4757-b3eb-188031a9a151",
   "metadata": {},
   "outputs": [],
   "source": [
    "class SubfieldsInAI():\n",
    "        def Subfields():\n",
    "            domain = [\"Machine Learning\",\"Neural Networks\",\"Vision\",\"Robotics\",\"Speech Processing\",\"Natural Language Processing\"]\n",
    "            print(\"Sub-fields in AI are:\")\n",
    "            for result in domain:\n",
    "                print(result)\n",
    "            return result"
   ]
  },
  {
   "cell_type": "code",
   "execution_count": 3,
   "id": "69ba9d5a-e59c-45be-9051-1a3639bea601",
   "metadata": {},
   "outputs": [
    {
     "name": "stdout",
     "output_type": "stream",
     "text": [
      "Sub-fields in AI are:\n",
      "Machine Learning\n",
      "Neural Networks\n",
      "Vision\n",
      "Robotics\n",
      "Speech Processing\n",
      "Natural Language Processing\n"
     ]
    }
   ],
   "source": [
    "subfields=SubfieldsInAI.Subfields()"
   ]
  },
  {
   "cell_type": "code",
   "execution_count": 4,
   "id": "0a7be009-e8fe-41ce-beb0-e797e8fc69ca",
   "metadata": {},
   "outputs": [
    {
     "name": "stdin",
     "output_type": "stream",
     "text": [
      "Enter a number: 4\n"
     ]
    },
    {
     "name": "stdout",
     "output_type": "stream",
     "text": [
      "4  is Even Number\n"
     ]
    }
   ],
   "source": [
    "class OddEven():\n",
    "    def oddeven():\n",
    "        num=int(input(\"Enter a number:\"))\n",
    "        if(num%2==1):\n",
    "            print(num,\"is Odd Number\")\n",
    "            value=\"Odd Number\"\n",
    "        else:\n",
    "            print(num,\" is Even Number\")\n",
    "            value=\"Even Number\"\n",
    "        return value\n",
    "oddevenresult=OddEven.oddeven()"
   ]
  },
  {
   "cell_type": "code",
   "execution_count": 5,
   "id": "89dd1b16-49b4-43fc-a1b9-82e1a148e2ae",
   "metadata": {},
   "outputs": [
    {
     "name": "stdin",
     "output_type": "stream",
     "text": [
      "Your Gender: Male\n",
      "Your Age: 17\n"
     ]
    },
    {
     "name": "stdout",
     "output_type": "stream",
     "text": [
      "Not Eligible\n"
     ]
    }
   ],
   "source": [
    "class ElegiblityForMarriage():\n",
    "    def Elegible():\n",
    "        Gender=input(\"Your Gender:\")\n",
    "        age=int(input(\"Your Age:\"))\n",
    "        if(Gender==\"Male\"):\n",
    "                if(age<21):\n",
    "                    print(\"Not Eligible\")\n",
    "                    criteria=\"Not Eligible\"\n",
    "                else:\n",
    "                    print(\"Eligible\")\n",
    "                    criteria=\"Eligible\"\n",
    "                return criteria\n",
    "        elif(Gender==\"Female\"):\n",
    "                if(age<18):\n",
    "                    print(\"Not Eligible\")\n",
    "                    criteria=\"Not Eligible\"\n",
    "                else:\n",
    "                    print(\"Eligible\")\n",
    "                    criteria=\"Eligible\"\n",
    "                return criteria\n",
    "criteriacheck=ElegiblityForMarriage.Elegible()"
   ]
  },
  {
   "cell_type": "code",
   "execution_count": 7,
   "id": "36228935-ec74-45be-ad94-328e0d548b8d",
   "metadata": {},
   "outputs": [
    {
     "name": "stdin",
     "output_type": "stream",
     "text": [
      "Subject1= 87\n",
      "Subject2= 97\n",
      "Subject3= 78\n",
      "Subject4= 98\n",
      "Subject5= 78\n"
     ]
    },
    {
     "name": "stdout",
     "output_type": "stream",
     "text": [
      "Total: 438\n",
      "Percentage: 87.6\n"
     ]
    }
   ],
   "source": [
    "class FindPercent():\n",
    "    def percentage():\n",
    "        sub1=int(input(\"Subject1=\"))\n",
    "        sub2=int(input(\"Subject2=\"))\n",
    "        sub3=int(input(\"Subject3=\"))\n",
    "        sub4=int(input(\"Subject4=\"))\n",
    "        sub5=int(input(\"Subject5=\"))\n",
    "        total=sub1+sub2+sub3+sub4+sub5\n",
    "        print(\"Total:\",total)\n",
    "        perc=(total/500*100)\n",
    "        print(\"Percentage:\",perc)\n",
    "        mark=perc\n",
    "        return mark\n",
    "overallresult=FindPercent.percentage()"
   ]
  },
  {
   "cell_type": "code",
   "execution_count": 8,
   "id": "6fac5b8a-9dba-4c3b-89a4-f5119ba85b6e",
   "metadata": {},
   "outputs": [
    {
     "name": "stdin",
     "output_type": "stream",
     "text": [
      "Height: 4\n",
      "Breadth: 5\n"
     ]
    },
    {
     "name": "stdout",
     "output_type": "stream",
     "text": [
      "Area formula:  (Height*Breadth)/2\n",
      "Area of Triangle: 10.0\n"
     ]
    },
    {
     "name": "stdin",
     "output_type": "stream",
     "text": [
      "Height1: 2\n",
      "Height2: 4\n",
      "Btradth: 6\n"
     ]
    },
    {
     "name": "stdout",
     "output_type": "stream",
     "text": [
      "Perimeter formula: Height1+Height2+Breadth\n",
      "Perimeter of Triangle: 12\n"
     ]
    }
   ],
   "source": [
    "class triangle():\n",
    "#Area\n",
    "    def triangle():\n",
    "            num1=int(input(\"Height:\"))\n",
    "            num2=int(input(\"Breadth:\"))\n",
    "            print(\"Area formula:  (Height*Breadth)/2\")\n",
    "            value1=((num1*num2)/2)\n",
    "            print(\"Area of Triangle:\", value1)\n",
    "            area=value1\n",
    "#Perimeter\n",
    "            num3=int(input(\"Height1:\"))\n",
    "            num4=int(input(\"Height2:\"))\n",
    "            num5=int(input(\"Btradth:\"))\n",
    "            print(\"Perimeter formula: Height1+Height2+Breadth\")\n",
    "            value2=(num3+num4+num5)\n",
    "            print(\"Perimeter of Triangle:\",value2)\n",
    "            perimeter=value2\n",
    "            return area, perimeter\n",
    "calculation=triangle.triangle()"
   ]
  },
  {
   "cell_type": "code",
   "execution_count": 9,
   "id": "5d7deaa2-60ae-477c-9282-cb3afaa0c0fb",
   "metadata": {},
   "outputs": [
    {
     "name": "stdout",
     "output_type": "stream",
     "text": [
      "(10.0, 12)\n"
     ]
    }
   ],
   "source": [
    "print(calculation)"
   ]
  }
 ],
 "metadata": {
  "kernelspec": {
   "display_name": "Python 3 (ipykernel)",
   "language": "python",
   "name": "python3"
  },
  "language_info": {
   "codemirror_mode": {
    "name": "ipython",
    "version": 3
   },
   "file_extension": ".py",
   "mimetype": "text/x-python",
   "name": "python",
   "nbconvert_exporter": "python",
   "pygments_lexer": "ipython3",
   "version": "3.13.5"
  }
 },
 "nbformat": 4,
 "nbformat_minor": 5
}
