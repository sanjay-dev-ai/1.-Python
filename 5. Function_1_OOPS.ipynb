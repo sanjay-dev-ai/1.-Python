{
 "cells": [
  {
   "cell_type": "code",
   "execution_count": 18,
   "id": "bf768085-ebf3-4f64-8ecf-fffe386e5a95",
   "metadata": {},
   "outputs": [],
   "source": [
    "def agecategory():\n",
    "        if(age<15):\n",
    "         print(\"Children\")\n",
    "         cate=\"Children\"    \n",
    "        elif(age<18):\n",
    "            print(\"Teengae\")\n",
    "            cate=\"Teenage\"\n",
    "        elif(age<35):\n",
    "            print(\"Adult\")\n",
    "            cate=\"Adult\"\n",
    "        elif(age<59):\n",
    "            print(\"Citizen\")\n",
    "            cate=\"Citizen\"\n",
    "        else:\n",
    "            print(\"Senior Citizen\")\n",
    "            cate=\"Senior Citizen\"\n",
    "        return cate"
   ]
  },
  {
   "cell_type": "code",
   "execution_count": 19,
   "id": "127c6165-c01b-4a6f-8c8f-d106e156a8c2",
   "metadata": {},
   "outputs": [
    {
     "name": "stdin",
     "output_type": "stream",
     "text": [
      "Enter the number: 33\n"
     ]
    },
    {
     "name": "stdout",
     "output_type": "stream",
     "text": [
      "Adult\n"
     ]
    }
   ],
   "source": [
    "age=int(input(\"Enter the number:\"))  #Once the funtion is defined, We can call the fuction  where ever required using the funtion name to get the output.\n",
    "agecate= agecategory()"
   ]
  },
  {
   "cell_type": "code",
   "execution_count": 20,
   "id": "4ea89d4c-4611-408b-b498-ce4b288f62d6",
   "metadata": {},
   "outputs": [
    {
     "name": "stdout",
     "output_type": "stream",
     "text": [
      "Adult\n"
     ]
    }
   ],
   "source": [
    "print(agecate)     #This is the out that got from the return statemnet"
   ]
  },
  {
   "cell_type": "code",
   "execution_count": 8,
   "id": "66daac66-e8f7-4ba4-b8f5-6cad684f40fc",
   "metadata": {},
   "outputs": [],
   "source": [
    "#Performing the function without return statemnet\n",
    "\n",
    "def agecategoryNOR():\n",
    "        if(age<15):\n",
    "         print(\"Children\")\n",
    "         cate=\"Children\"    \n",
    "        elif(age<18):\n",
    "            print(\"Teengae\")\n",
    "            cate=\"Teenage\"\n",
    "        elif(age<35):\n",
    "            print(\"Adult\")\n",
    "            cate=\"Adult\"\n",
    "        elif(age<59):\n",
    "            print(\"Citizen\")\n",
    "            cate=\"Citizen\"\n",
    "        else:\n",
    "            print(\"Senior Citizen\")\n",
    "            cate=\"Senior Citizen\""
   ]
  },
  {
   "cell_type": "code",
   "execution_count": 13,
   "id": "20a927d3-1ab9-4d5e-b3f6-72519a7fc92a",
   "metadata": {},
   "outputs": [
    {
     "name": "stdin",
     "output_type": "stream",
     "text": [
      "Enter the number: 33\n"
     ]
    },
    {
     "name": "stdout",
     "output_type": "stream",
     "text": [
      "Adult\n"
     ]
    }
   ],
   "source": [
    "age=int(input(\"Enter the number:\")) \n",
    "agecate=agecategoryNOR()"
   ]
  },
  {
   "cell_type": "code",
   "execution_count": 14,
   "id": "f7ed7bdb-453e-490b-8ff6-f99fc84ad09e",
   "metadata": {},
   "outputs": [
    {
     "name": "stdout",
     "output_type": "stream",
     "text": [
      "None\n"
     ]
    }
   ],
   "source": [
    "print(agecate)   #The output None is due to no return statemnet is used, So, The value is not returned to the fubation name. "
   ]
  },
  {
   "cell_type": "code",
   "execution_count": 15,
   "id": "80957bb6-906b-43d9-bfdb-169414013727",
   "metadata": {},
   "outputs": [
    {
     "name": "stdin",
     "output_type": "stream",
     "text": [
      "Enter the number: 24\n"
     ]
    },
    {
     "name": "stdout",
     "output_type": "stream",
     "text": [
      "Adult\n"
     ]
    }
   ],
   "source": [
    "age=int(input(\"Enter the number:\"))\n",
    "agecate1= agecategory()"
   ]
  },
  {
   "cell_type": "code",
   "execution_count": 17,
   "id": "77339e20-1cec-4846-8c5b-88447b2ef038",
   "metadata": {},
   "outputs": [
    {
     "name": "stdout",
     "output_type": "stream",
     "text": [
      "Adult\n"
     ]
    }
   ],
   "source": [
    "print(agecate1)   #If funtion is used over the logic, We can store the output in multiple varibales."
   ]
  },
  {
   "cell_type": "code",
   "execution_count": null,
   "id": "25086e15-bedf-467d-8b29-d0d7f3f40858",
   "metadata": {},
   "outputs": [],
   "source": []
  }
 ],
 "metadata": {
  "kernelspec": {
   "display_name": "Python 3 (ipykernel)",
   "language": "python",
   "name": "python3"
  },
  "language_info": {
   "codemirror_mode": {
    "name": "ipython",
    "version": 3
   },
   "file_extension": ".py",
   "mimetype": "text/x-python",
   "name": "python",
   "nbconvert_exporter": "python",
   "pygments_lexer": "ipython3",
   "version": "3.13.5"
  }
 },
 "nbformat": 4,
 "nbformat_minor": 5
}
