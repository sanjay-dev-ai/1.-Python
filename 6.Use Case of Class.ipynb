{
 "cells": [
  {
   "cell_type": "code",
   "execution_count": 5,
   "id": "725bb334-f67d-4596-9c08-1be9bbd0dedd",
   "metadata": {},
   "outputs": [],
   "source": [
    "#Use Case of Class\n",
    "#synatx (from filename import classname)\n",
    "\n",
    "from Calculation import multifunction"
   ]
  },
  {
   "cell_type": "code",
   "execution_count": 6,
   "id": "08064feb-c5d7-45df-bda8-86357d50d1ef",
   "metadata": {},
   "outputs": [
    {
     "name": "stdin",
     "output_type": "stream",
     "text": [
      "Enter the BMI Index: 34\n"
     ]
    },
    {
     "name": "stdout",
     "output_type": "stream",
     "text": [
      "Very Over Weight\n"
     ]
    }
   ],
   "source": [
    "BMIresult=multifunction.BMI()"
   ]
  },
  {
   "cell_type": "code",
   "execution_count": 7,
   "id": "58346690-6d05-4668-b8e1-dc1dbb0f7fb7",
   "metadata": {},
   "outputs": [
    {
     "name": "stdin",
     "output_type": "stream",
     "text": [
      "Enter the number: 4\n"
     ]
    },
    {
     "name": "stdout",
     "output_type": "stream",
     "text": [
      "Even Number\n"
     ]
    }
   ],
   "source": [
    "OddEvenResult=multifunction.oddeven()"
   ]
  },
  {
   "cell_type": "code",
   "execution_count": null,
   "id": "a4352127-4d1c-476b-8b58-addda33d6c10",
   "metadata": {},
   "outputs": [],
   "source": []
  }
 ],
 "metadata": {
  "kernelspec": {
   "display_name": "Python 3 (ipykernel)",
   "language": "python",
   "name": "python3"
  },
  "language_info": {
   "codemirror_mode": {
    "name": "ipython",
    "version": 3
   },
   "file_extension": ".py",
   "mimetype": "text/x-python",
   "name": "python",
   "nbconvert_exporter": "python",
   "pygments_lexer": "ipython3",
   "version": "3.13.5"
  }
 },
 "nbformat": 4,
 "nbformat_minor": 5
}
