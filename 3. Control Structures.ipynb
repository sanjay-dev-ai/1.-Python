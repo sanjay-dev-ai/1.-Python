{
 "cells": [
  {
   "cell_type": "markdown",
   "id": "fa3e3295-6ed6-4641-98e3-e5f3bff37c59",
   "metadata": {},
   "source": [
    "#if (Syntax)\n",
    "if():\n",
    "    print()"
   ]
  },
  {
   "cell_type": "code",
   "execution_count": 12,
   "id": "2197147e-ba4b-4432-9d0e-9c5fb4ec74fb",
   "metadata": {},
   "outputs": [
    {
     "name": "stdin",
     "output_type": "stream",
     "text": [
      "Enter the Age 18\n"
     ]
    },
    {
     "name": "stdout",
     "output_type": "stream",
     "text": [
      "Adult\n"
     ]
    }
   ],
   "source": [
    "age=int(input(\"Enter the Age\"))\n",
    "if(age==18):\n",
    "    print(\"Adult\")"
   ]
  },
  {
   "cell_type": "markdown",
   "id": "840ae103-924f-47c2-be0f-72f3c1e556dd",
   "metadata": {},
   "source": [
    "#if-else (Syntax)\n",
    "if():\n",
    "    print()\n",
    "else:\n",
    "    print()"
   ]
  },
  {
   "cell_type": "code",
   "execution_count": 17,
   "id": "086fc012-128a-43ba-a249-ff01ab08de59",
   "metadata": {},
   "outputs": [
    {
     "name": "stdin",
     "output_type": "stream",
     "text": [
      "Enter the Age 18\n"
     ]
    },
    {
     "name": "stdout",
     "output_type": "stream",
     "text": [
      "Adult\n"
     ]
    }
   ],
   "source": [
    "age=int(input(\"Enter the Age\"))\n",
    "if(age<18):   #In this condition the age will checks till 17 and If we provide 18 it will print as adult.  \n",
    "    print(\"Childern\")\n",
    "else:\n",
    "    print(\"Adult\")"
   ]
  },
  {
   "cell_type": "code",
   "execution_count": 18,
   "id": "002f4243-adca-4791-bdc8-bfe7d3b6dc04",
   "metadata": {},
   "outputs": [
    {
     "name": "stdin",
     "output_type": "stream",
     "text": [
      "Enter the Age 18\n"
     ]
    },
    {
     "name": "stdout",
     "output_type": "stream",
     "text": [
      "Childern\n"
     ]
    }
   ],
   "source": [
    "age=int(input(\"Enter the Age\"))\n",
    "if(age<=18):    #In this condition the age will checks till 18 and If we provide 18 it will print as Childeren.\n",
    "    print(\"Childern\")\n",
    "else:\n",
    "    print(\"Adult\")"
   ]
  },
  {
   "cell_type": "markdown",
   "id": "d4ea7cfb-2045-450a-8629-1f74bbd41f7b",
   "metadata": {},
   "source": [
    "#if-elif  (Syntax)\n",
    "if():\n",
    "    print()\n",
    "elif():\n",
    "    print()\n",
    "elif():\n",
    "    print()\n",
    "else:\n",
    "    print()"
   ]
  },
  {
   "cell_type": "markdown",
   "id": "e1aea5f0-c08e-49d6-abe9-6865559335c8",
   "metadata": {},
   "source": [
    "#Reqiremnet\n",
    "age<15 --> Children\n",
    "age<18 --> Teenage\n",
    "age<35 --> Adult\n",
    "age<59 --> Citizen\n",
    "age>59 --> Senior Citizen"
   ]
  },
  {
   "cell_type": "code",
   "execution_count": 4,
   "id": "9a9db09e-02c8-4b81-8f54-57dba9aeec5c",
   "metadata": {},
   "outputs": [
    {
     "name": "stdin",
     "output_type": "stream",
     "text": [
      "Enter the Age:  68\n"
     ]
    },
    {
     "name": "stdout",
     "output_type": "stream",
     "text": [
      "Senior Citizen\n"
     ]
    }
   ],
   "source": [
    "age=int(input(\"Enter the Age: \"))\n",
    "if(age<15):\n",
    "    print(\"Children\")\n",
    "elif(age<18):\n",
    "    print(\"Teengae\")\n",
    "elif(age<35):\n",
    "    print(\"Adult\")\n",
    "elif(age<59):\n",
    "    print(\"Citizen\")\n",
    "else:\n",
    "    print(\"Senior Citizen\")"
   ]
  },
  {
   "cell_type": "markdown",
   "id": "d6f7c042-7ef6-40f6-bdf1-3901fabdebf5",
   "metadata": {},
   "source": [
    "#for loop   (Syntax)\n",
    "\n",
    "for (temp variable) in (main variable)"
   ]
  },
  {
   "cell_type": "code",
   "execution_count": 6,
   "id": "eff361fb-29f2-4268-9898-f63caa4d7214",
   "metadata": {},
   "outputs": [
    {
     "name": "stdout",
     "output_type": "stream",
     "text": [
      "44\n",
      "38\n",
      "27\n",
      "16\n",
      "35\n",
      "10\n"
     ]
    }
   ],
   "source": [
    "lists=[44,38,27,16,35,10]   #Mutiple input --> Single Condition\n",
    "for age in lists:\n",
    "    print(age)"
   ]
  },
  {
   "cell_type": "code",
   "execution_count": 12,
   "id": "d0a69a1d-220a-4171-84ce-985cadbcac7e",
   "metadata": {},
   "outputs": [
    {
     "name": "stdout",
     "output_type": "stream",
     "text": [
      "Citizen\n",
      "Citizen\n",
      "Adult\n",
      "Teengae\n",
      "Citizen\n",
      "Children\n"
     ]
    }
   ],
   "source": [
    "lists=[44,38,27,16,35,10]   #Mutiple input --> Multiple Condition using control structures (If,elif,else Satements)\n",
    "for age in lists:\n",
    "    if(age<15):\n",
    "     print(\"Children\")\n",
    "    elif(age<18):\n",
    "        print(\"Teengae\")\n",
    "    elif(age<35):\n",
    "        print(\"Adult\")\n",
    "    elif(age<59):\n",
    "        print(\"Citizen\")\n",
    "    else:\n",
    "        print(\"Senior Citizen\")"
   ]
  },
  {
   "cell_type": "code",
   "execution_count": 24,
   "id": "2775399d-260c-40b0-90f8-4711b65fc129",
   "metadata": {},
   "outputs": [
    {
     "name": "stdout",
     "output_type": "stream",
     "text": [
      "Citizen - 44\n",
      "Citizen - 38\n",
      "Adult - 27\n",
      "Teengae - 16\n",
      "Citizen - 35\n",
      "Children - 10\n"
     ]
    }
   ],
   "source": [
    "lists=[44,38,27,16,35,10]   #Mutiple input --> Multiple Condition using control structures (if,elif,else Satements)\n",
    "for age in lists:\n",
    "    if(age<15):    #Condition --> 1\n",
    "     print(\"Children -\",age)\n",
    "    elif(age<18):  #Condition --> 2\n",
    "        print(\"Teengae -\",age)\n",
    "    elif(age<35):  #Condition --> 3\n",
    "        print(\"Adult -\",age)\n",
    "    elif(age<59):  #Condition --> 4\n",
    "        print(\"Citizen -\",age)\n",
    "    else:         #Condition --> End\n",
    "        print(\"Senior Citizen -\",age)"
   ]
  },
  {
   "cell_type": "code",
   "execution_count": 25,
   "id": "aff5c157-9a1c-4c9e-9483-bf9b4b0d1298",
   "metadata": {},
   "outputs": [
    {
     "name": "stdin",
     "output_type": "stream",
     "text": [
      "Enter the Value: 10\n"
     ]
    },
    {
     "name": "stdout",
     "output_type": "stream",
     "text": [
      "10 - Even Number\n"
     ]
    }
   ],
   "source": [
    "#find the given number is Odd or Even number\n",
    "\n",
    "value=int(input(\"Enter the Value:\"))\n",
    "if(value%2==0):\n",
    "          print(value,\"- Even Number\")\n",
    "else:\n",
    "          print(value,\"- Odd Number\")\n"
   ]
  },
  {
   "cell_type": "markdown",
   "id": "2a3e8d67-f9e9-45b1-944c-8f25b2fe2d05",
   "metadata": {},
   "source": [
    "#range    (Syntax)\n",
    "\n",
    "range(start, stop, step)"
   ]
  },
  {
   "cell_type": "code",
   "execution_count": 23,
   "id": "49b80377-88c4-4d75-a2bf-94c0c3cfe4c8",
   "metadata": {},
   "outputs": [
    {
     "name": "stdout",
     "output_type": "stream",
     "text": [
      "15\n",
      "20\n",
      "25\n"
     ]
    }
   ],
   "source": [
    "for num in range(15,30,5):   # In this 15 --> Start, 30 --> End, 5 --> Skips every 5 numbers\n",
    "    print(num)"
   ]
  },
  {
   "cell_type": "code",
   "execution_count": null,
   "id": "4e75c49b-385d-4990-b2a6-53a29de37708",
   "metadata": {},
   "outputs": [],
   "source": []
  }
 ],
 "metadata": {
  "kernelspec": {
   "display_name": "Python 3 (ipykernel)",
   "language": "python",
   "name": "python3"
  },
  "language_info": {
   "codemirror_mode": {
    "name": "ipython",
    "version": 3
   },
   "file_extension": ".py",
   "mimetype": "text/x-python",
   "name": "python",
   "nbconvert_exporter": "python",
   "pygments_lexer": "ipython3",
   "version": "3.13.5"
  }
 },
 "nbformat": 4,
 "nbformat_minor": 5
}
