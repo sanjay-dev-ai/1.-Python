{
 "cells": [
  {
   "cell_type": "code",
   "execution_count": 18,
   "id": "bf768085-ebf3-4f64-8ecf-fffe386e5a95",
   "metadata": {},
   "outputs": [],
   "source": [
    "def agecategory():\n",
    "        if(age<15):\n",
    "         print(\"Children\")\n",
    "         cate=\"Children\"    \n",
    "        elif(age<18):\n",
    "            print(\"Teengae\")\n",
    "            cate=\"Teenage\"\n",
    "        elif(age<35):\n",
    "            print(\"Adult\")\n",
    "            cate=\"Adult\"\n",
    "        elif(age<59):\n",
    "            print(\"Citizen\")\n",
    "            cate=\"Citizen\"\n",
    "        else:\n",
    "            print(\"Senior Citizen\")\n",
    "            cate=\"Senior Citizen\"\n",
    "        return cate"
   ]
  },
  {
   "cell_type": "code",
   "execution_count": 19,
   "id": "127c6165-c01b-4a6f-8c8f-d106e156a8c2",
   "metadata": {},
   "outputs": [
    {
     "name": "stdin",
     "output_type": "stream",
     "text": [
      "Enter the number: 33\n"
     ]
    },
    {
     "name": "stdout",
     "output_type": "stream",
     "text": [
      "Adult\n"
     ]
    }
   ],
   "source": [
    "age=int(input(\"Enter the number:\"))  #Once the funtion is defined, We can call the fuction  where ever required using the funtion name to get the output.\n",
    "agecate= agecategory()"
   ]
  },
  {
   "cell_type": "code",
   "execution_count": 20,
   "id": "4ea89d4c-4611-408b-b498-ce4b288f62d6",
   "metadata": {},
   "outputs": [
    {
     "name": "stdout",
     "output_type": "stream",
     "text": [
      "Adult\n"
     ]
    }
   ],
   "source": [
    "print(agecate)     #This is the out that got from the return statemnet"
   ]
  },
  {
   "cell_type": "code",
   "execution_count": 8,
   "id": "66daac66-e8f7-4ba4-b8f5-6cad684f40fc",
   "metadata": {},
   "outputs": [],
   "source": [
    "#Performing the function without return statemnet\n",
    "\n",
    "def agecategoryNOR():\n",
    "        if(age<15):\n",
    "         print(\"Children\")\n",
    "         cate=\"Children\"    \n",
    "        elif(age<18):\n",
    "            print(\"Teengae\")\n",
    "            cate=\"Teenage\"\n",
    "        elif(age<35):\n",
    "            print(\"Adult\")\n",
    "            cate=\"Adult\"\n",
    "        elif(age<59):\n",
    "            print(\"Citizen\")\n",
    "            cate=\"Citizen\"\n",
    "        else:\n",
    "            print(\"Senior Citizen\")\n",
    "            cate=\"Senior Citizen\""
   ]
  },
  {
   "cell_type": "code",
   "execution_count": 13,
   "id": "20a927d3-1ab9-4d5e-b3f6-72519a7fc92a",
   "metadata": {},
   "outputs": [
    {
     "name": "stdin",
     "output_type": "stream",
     "text": [
      "Enter the number: 33\n"
     ]
    },
    {
     "name": "stdout",
     "output_type": "stream",
     "text": [
      "Adult\n"
     ]
    }
   ],
   "source": [
    "age=int(input(\"Enter the number:\")) \n",
    "agecate=agecategoryNOR()"
   ]
  },
  {
   "cell_type": "code",
   "execution_count": 14,
   "id": "f7ed7bdb-453e-490b-8ff6-f99fc84ad09e",
   "metadata": {},
   "outputs": [
    {
     "name": "stdout",
     "output_type": "stream",
     "text": [
      "None\n"
     ]
    }
   ],
   "source": [
    "print(agecate)   #The output None is due to no return statemnet is used, So, The value is not returned to the fubation name. "
   ]
  },
  {
   "cell_type": "code",
   "execution_count": 15,
   "id": "80957bb6-906b-43d9-bfdb-169414013727",
   "metadata": {},
   "outputs": [
    {
     "name": "stdin",
     "output_type": "stream",
     "text": [
      "Enter the number: 24\n"
     ]
    },
    {
     "name": "stdout",
     "output_type": "stream",
     "text": [
      "Adult\n"
     ]
    }
   ],
   "source": [
    "age=int(input(\"Enter the number:\"))\n",
    "agecate1= agecategory()"
   ]
  },
  {
   "cell_type": "code",
   "execution_count": 17,
   "id": "77339e20-1cec-4846-8c5b-88447b2ef038",
   "metadata": {},
   "outputs": [
    {
     "name": "stdout",
     "output_type": "stream",
     "text": [
      "Adult\n"
     ]
    }
   ],
   "source": [
    "print(agecate1)   #If funtion is used over the logic, We can store the output in multiple varibales."
   ]
  },
  {
   "cell_type": "code",
   "execution_count": 30,
   "id": "25086e15-bedf-467d-8b29-d0d7f3f40858",
   "metadata": {},
   "outputs": [
    {
     "name": "stdin",
     "output_type": "stream",
     "text": [
      "Enter the number: 98\n"
     ]
    },
    {
     "name": "stdout",
     "output_type": "stream",
     "text": [
      "Even Number\n",
      "Yes, The given condition is true\n"
     ]
    }
   ],
   "source": [
    "#Function-4\n",
    "#Using return statemnet providing the input to the other function. \n",
    "\n",
    "def oddeven():\n",
    "    num=int(input(\"Enter the number:\"))\n",
    "    if(num%2==1):\n",
    "        print(\"Odd Number\")\n",
    "        value=\"Odd Number\"\n",
    "    else:\n",
    "        print(\"Even Number\")\n",
    "        value=\"Even Number\"\n",
    "    return value                #Using return statemnet storing the value to the fuction\n",
    "message=oddeven()               #Assigning the function vale to the variable to use data in the next function as a input.\n",
    "\n",
    "if(message==\"Even Number\"):     #Using the fuction's assigned variable in the new fuction as input to qalify the condition\n",
    "    print(\"Yes, The given condition is true\")\n",
    "else:\n",
    "    print(\"No, Check the condition\")\n"
   ]
  },
  {
   "cell_type": "code",
   "execution_count": 34,
   "id": "38fcd423-73f4-4322-a355-6bbeab9f200e",
   "metadata": {},
   "outputs": [
    {
     "name": "stdin",
     "output_type": "stream",
     "text": [
      "Enter the BMI Index: 34\n"
     ]
    },
    {
     "name": "stdout",
     "output_type": "stream",
     "text": [
      "Very Over Weight\n"
     ]
    }
   ],
   "source": [
    "#Fuction-5 \n",
    "#Paramerterized Funtion and Non-Parameterized Funation\n",
    "\n",
    "def BMI():    #Non-Parameterized Funation (User nmeeds to provide the input)\n",
    "    value=int(input(\"Enter the BMI Index:\"))\n",
    "    if(value<18):\n",
    "        print(\"Under Weight\")\n",
    "        message=\"Under Weight\"\n",
    "    elif(value<=24):\n",
    "        print(\"Normal Weight\")\n",
    "        message=\"Normal Weight\"\n",
    "    elif(value<=30):\n",
    "        print(\"Over Weight\")\n",
    "        message=\"Over Weight\"\n",
    "    else:\n",
    "        print(\"Very Over Weight\")\n",
    "        message=\"Very Over Weight\"\n",
    "    return message\n",
    "bmi=BMI()"
   ]
  },
  {
   "cell_type": "code",
   "execution_count": 37,
   "id": "83f2573c-90da-4d91-9e58-2c9addaa1d01",
   "metadata": {},
   "outputs": [
    {
     "data": {
      "text/plain": [
       "11"
      ]
     },
     "execution_count": 37,
     "metadata": {},
     "output_type": "execute_result"
    }
   ],
   "source": [
    "#Paramerterized Funtion\n",
    "\n",
    "def addition(num1, num2): #Declaring the variable in the fuction name to provide the input inside the code\n",
    "    add=num1+num2\n",
    "    return add\n",
    "addition(5,6)    #passing the input using fuction name"
   ]
  },
  {
   "cell_type": "code",
   "execution_count": null,
   "id": "1be8f77b-cb87-4d21-a783-ae417affd218",
   "metadata": {},
   "outputs": [],
   "source": []
  },
  {
   "cell_type": "markdown",
   "id": "fdff9c02-00f1-47ab-81f5-5971f16cf48c",
   "metadata": {},
   "source": [
    "#class - OOPS\n",
    "Syntax\n",
    "\n",
    "Class (Class name) ():\n",
    "\n",
    "{Funations}\n",
    "\n",
    "\n",
    "Vaiable=Classname.functionname()"
   ]
  },
  {
   "cell_type": "code",
   "execution_count": 1,
   "id": "9e9e65ae-9842-485f-9d48-210e8dcdbb9c",
   "metadata": {},
   "outputs": [],
   "source": [
    "#class\n",
    "\n",
    "class multifunction():\n",
    "    def oddeven():\n",
    "        num=int(input(\"Enter the number:\"))\n",
    "        if(num%2==1):\n",
    "            print(\"Odd Number\")\n",
    "            value=\"Odd Number\"\n",
    "        else:\n",
    "            print(\"Even Number\")\n",
    "            value=\"Even Number\"\n",
    "        return value\n",
    "    def BMI():\n",
    "        value=int(input(\"Enter the BMI Index:\"))\n",
    "        if(value<18):\n",
    "            print(\"Under Weight\")\n",
    "            message=\"Under Weight\"\n",
    "        elif(value<=24):\n",
    "            print(\"Normal Weight\")\n",
    "            message=\"Normal Weight\"\n",
    "        elif(value<=30):\n",
    "            print(\"Over Weight\")\n",
    "            message=\"Over Weight\"\n",
    "        else:\n",
    "            print(\"Very Over Weight\")\n",
    "            message=\"Very Over Weight\"\n",
    "        return message"
   ]
  },
  {
   "cell_type": "code",
   "execution_count": 2,
   "id": "4ceb1833-b889-469d-b216-ab25efb8ca48",
   "metadata": {},
   "outputs": [
    {
     "name": "stdin",
     "output_type": "stream",
     "text": [
      "Enter the number: 22\n"
     ]
    },
    {
     "name": "stdout",
     "output_type": "stream",
     "text": [
      "Even Number\n"
     ]
    }
   ],
   "source": [
    "result=multifunction.oddeven()"
   ]
  },
  {
   "cell_type": "code",
   "execution_count": 3,
   "id": "dd751a11-c3c2-4bec-9fc7-71a2b66d09d8",
   "metadata": {},
   "outputs": [
    {
     "name": "stdin",
     "output_type": "stream",
     "text": [
      "Enter the BMI Index: 34\n"
     ]
    },
    {
     "name": "stdout",
     "output_type": "stream",
     "text": [
      "Very Over Weight\n"
     ]
    }
   ],
   "source": [
    "result=multifunction.BMI()"
   ]
  },
  {
   "cell_type": "code",
   "execution_count": null,
   "id": "d9306709-cb44-4d3e-b1f9-fe419234db7c",
   "metadata": {},
   "outputs": [],
   "source": []
  }
 ],
 "metadata": {
  "kernelspec": {
   "display_name": "Python 3 (ipykernel)",
   "language": "python",
   "name": "python3"
  },
  "language_info": {
   "codemirror_mode": {
    "name": "ipython",
    "version": 3
   },
   "file_extension": ".py",
   "mimetype": "text/x-python",
   "name": "python",
   "nbconvert_exporter": "python",
   "pygments_lexer": "ipython3",
   "version": "3.13.5"
  }
 },
 "nbformat": 4,
 "nbformat_minor": 5
}
